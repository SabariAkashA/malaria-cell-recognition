{
  "cells": [
    {
      "cell_type": "markdown",
      "id": "a670c0f4",
      "metadata": {
        "id": "a670c0f4"
      },
      "source": [
        "Name:\n",
        "\n",
        "Register Number:\n"
      ]
    },
    {
      "cell_type": "code",
      "execution_count": null,
      "id": "aa1360fb-b46a-439f-93d3-2f6e615c8fd4",
      "metadata": {
        "id": "aa1360fb-b46a-439f-93d3-2f6e615c8fd4",
        "tags": []
      },
      "outputs": [],
      "source": [
        "import os\n",
        "import pandas as pd\n",
        "import numpy as np\n",
        "import seaborn as sns\n",
        "import matplotlib.pyplot as plt\n",
        "from matplotlib.image import imread\n",
        "from tensorflow.keras.preprocessing.image import ImageDataGenerator\n",
        "from tensorflow import keras\n",
        "from tensorflow.keras import layers\n",
        "from tensorflow.keras import utils\n",
        "from tensorflow.keras import models\n",
        "from sklearn.metrics import classification_report,confusion_matrix\n",
        "import tensorflow as tf\n",
        "# to share the GPU resources for multiple sessions\n",
        "from tensorflow.compat.v1.keras.backend import set_session\n",
        "config = tf.compat.v1.ConfigProto()\n",
        "config.gpu_options.allow_growth = True # dynamically grow the memory used on the GPU\n",
        "config.log_device_placement = True # to log device placement (on which device the operation ran)\n",
        "sess = tf.compat.v1.Session(config=config)\n",
        "set_session(sess)\n",
        "\n",
        "%matplotlib inline"
      ]
    },
    {
      "cell_type": "code",
      "execution_count": null,
      "id": "u3KlPZrrZ6N8",
      "metadata": {
        "id": "u3KlPZrrZ6N8"
      },
      "outputs": [],
      "source": [
        "# for Google Colab\n",
        "drive.mount('/content/drive')"
      ]
    },
    {
      "cell_type": "code",
      "execution_count": null,
      "id": "ypjnFvd-dpot",
      "metadata": {
        "id": "ypjnFvd-dpot"
      },
      "outputs": [],
      "source": [
        "# for Google Colab\n",
        "!tar --skip-old-files -xvf '/content/drive/MyDrive/Dataset/cell_images.tar.xz' -C '/content/drive/MyDrive/Dataset/'"
      ]
    },
    {
      "cell_type": "code",
      "execution_count": null,
      "id": "38eca3bd-9b30-4e32-8b69-4f733a4ef3c8",
      "metadata": {
        "id": "38eca3bd-9b30-4e32-8b69-4f733a4ef3c8"
      },
      "outputs": [],
      "source": [
        "# for Google Colab\n",
        "my_data_dir = '/content/drive/MyDrive/Dataset/cell_images'"
      ]
    },
    {
      "cell_type": "code",
      "execution_count": null,
      "id": "e7ac3968-6bb1-4266-a91c-42531286760a",
      "metadata": {
        "id": "e7ac3968-6bb1-4266-a91c-42531286760a"
      },
      "outputs": [],
      "source": [
        "os.listdir(my_data_dir)"
      ]
    },
    {
      "cell_type": "code",
      "execution_count": null,
      "id": "9b1ab1fa-99d5-4ddf-b777-784cf312deda",
      "metadata": {
        "id": "9b1ab1fa-99d5-4ddf-b777-784cf312deda"
      },
      "outputs": [],
      "source": [
        "test_path = my_data_dir+'/test/'\n",
        "train_path = my_data_dir+'/train/'"
      ]
    },
    {
      "cell_type": "code",
      "execution_count": null,
      "id": "2c64cb87-d1aa-4a76-9576-9d3c56f730d6",
      "metadata": {
        "id": "2c64cb87-d1aa-4a76-9576-9d3c56f730d6"
      },
      "outputs": [],
      "source": [
        "os.listdir(train_path)"
      ]
    },
    {
      "cell_type": "code",
      "execution_count": null,
      "id": "ZI5m1DWTbk3N",
      "metadata": {
        "id": "ZI5m1DWTbk3N"
      },
      "outputs": [],
      "source": [
        "len(os.listdir(train_path+'/uninfected/'))"
      ]
    },
    {
      "cell_type": "code",
      "execution_count": null,
      "id": "b6r_BpiPbtEc",
      "metadata": {
        "id": "b6r_BpiPbtEc"
      },
      "outputs": [],
      "source": [
        "len(os.listdir(train_path+'/parasitized/'))"
      ]
    },
    {
      "cell_type": "code",
      "execution_count": null,
      "id": "33d3464e-895c-432f-8d51-7d55f59d1324",
      "metadata": {
        "id": "33d3464e-895c-432f-8d51-7d55f59d1324"
      },
      "outputs": [],
      "source": [
        "os.listdir(train_path+'/parasitized')[0]"
      ]
    },
    {
      "cell_type": "code",
      "execution_count": null,
      "id": "48c48cb9-e5de-4088-8215-98d5b6534846",
      "metadata": {
        "id": "48c48cb9-e5de-4088-8215-98d5b6534846"
      },
      "outputs": [],
      "source": [
        "para_img= imread(train_path+\n",
        "                 '/parasitized/'+\n",
        "                 os.listdir(train_path+'/parasitized')[0])"
      ]
    },
    {
      "cell_type": "code",
      "execution_count": null,
      "id": "518b6ed6-3759-4f58-8092-dc10e802f2ec",
      "metadata": {
        "id": "518b6ed6-3759-4f58-8092-dc10e802f2ec"
      },
      "outputs": [],
      "source": [
        "plt.imshow(para_img)"
      ]
    },
    {
      "cell_type": "code",
      "execution_count": null,
      "id": "cc4b2bdf-89c9-4fc8-9fbe-ca06adef8b87",
      "metadata": {
        "id": "cc4b2bdf-89c9-4fc8-9fbe-ca06adef8b87"
      },
      "outputs": [],
      "source": [
        "# Checking the image dimensions\n",
        "dim1 = []\n",
        "dim2 = []\n",
        "for image_filename in os.listdir(test_path+'/uninfected'):\n",
        "    img = imread(test_path+'/uninfected'+'/'+image_filename)\n",
        "    d1,d2,colors = img.shape\n",
        "    dim1.append(d1)\n",
        "    dim2.append(d2)"
      ]
    },
    {
      "cell_type": "code",
      "execution_count": null,
      "id": "af59ed8a-c47f-4010-9029-70c1ea2c612b",
      "metadata": {
        "id": "af59ed8a-c47f-4010-9029-70c1ea2c612b"
      },
      "outputs": [],
      "source": [
        "sns.jointplot(x=dim1,y=dim2)"
      ]
    },
    {
      "cell_type": "code",
      "execution_count": null,
      "id": "a6fde849-4f2e-49d4-872b-3f8b25c1d787",
      "metadata": {
        "id": "a6fde849-4f2e-49d4-872b-3f8b25c1d787"
      },
      "outputs": [],
      "source": [
        "image_shape = (130,130,3)"
      ]
    },
    {
      "cell_type": "code",
      "execution_count": null,
      "id": "b27bf37e-0a2c-4411-a50c-eec1849c5080",
      "metadata": {
        "id": "b27bf37e-0a2c-4411-a50c-eec1849c5080"
      },
      "outputs": [],
      "source": [
        "help(ImageDataGenerator)"
      ]
    },
    {
      "cell_type": "code",
      "execution_count": null,
      "id": "a3b66990-026e-4635-8173-9c32d6a0a04d",
      "metadata": {
        "id": "a3b66990-026e-4635-8173-9c32d6a0a04d"
      },
      "outputs": [],
      "source": [
        "image_gen = ImageDataGenerator(rotation_range=20, # rotate the image 20 degrees\n",
        "                               width_shift_range=0.10, # Shift the pic width by a max of 5%\n",
        "                               height_shift_range=0.10, # Shift the pic height by a max of 5%\n",
        "                               rescale=1/255, # Rescale the image by normalzing it.\n",
        "                               shear_range=0.1, # Shear means cutting away part of the image (max 10%)\n",
        "                               zoom_range=0.1, # Zoom in by 10% max\n",
        "                               horizontal_flip=True, # Allo horizontal flipping\n",
        "                               fill_mode='nearest' # Fill in missing pixels with the nearest filled value\n",
        "                              )"
      ]
    },
    {
      "cell_type": "code",
      "execution_count": null,
      "id": "e386c090-7cc5-4c32-8312-c7e59fab76bd",
      "metadata": {
        "id": "e386c090-7cc5-4c32-8312-c7e59fab76bd"
      },
      "outputs": [],
      "source": [
        "image_gen.flow_from_directory(train_path)"
      ]
    },
    {
      "cell_type": "code",
      "execution_count": null,
      "id": "e1c05004-c87c-41e2-a797-dd986b4ade02",
      "metadata": {
        "id": "e1c05004-c87c-41e2-a797-dd986b4ade02"
      },
      "outputs": [],
      "source": [
        "image_gen.flow_from_directory(test_path)"
      ]
    },
    {
      "cell_type": "markdown",
      "id": "7f9dd837",
      "metadata": {
        "id": "7f9dd837"
      },
      "source": [
        "Name:**Sabari Akash**\n",
        "\n",
        "Register Number:212222230124"
      ]
    },
    {
      "cell_type": "code",
      "execution_count": null,
      "id": "ccbaf2f1-375a-45ca-84c8-b61af54da689",
      "metadata": {
        "id": "ccbaf2f1-375a-45ca-84c8-b61af54da689"
      },
      "outputs": [],
      "source": [
        "model = models.Sequential()\n",
        "model.add(layers.Conv2D(filters=32, kernel_size=(3,3),input_shape=image_shape, activation='relu'))\n",
        "model.add(layers.MaxPooling2D(pool_size=(2, 2)))\n",
        "\n",
        "model.add(layers.Conv2D(filters=64, kernel_size=(3,3),input_shape=image_shape, activation='relu'))\n",
        "model.add(layers.MaxPooling2D(pool_size=(2, 2)))\n",
        "\n",
        "model.add(layers.Conv2D(filters=64, kernel_size=(3,3),input_shape=image_shape, activation='relu'))\n",
        "model.add(layers.MaxPooling2D(pool_size=(2, 2)))\n",
        "\n",
        "\n",
        "model.compile(loss='binary_crossentropy',\n",
        "              optimizer='adam',\n",
        "              metrics=['accuracy'])"
      ]
    },
    {
      "cell_type": "code",
      "execution_count": null,
      "id": "be5155d0-8c1c-4fa6-9ed9-a92a66e82e65",
      "metadata": {
        "id": "be5155d0-8c1c-4fa6-9ed9-a92a66e82e65"
      },
      "outputs": [],
      "source": [
        "model.summary()"
      ]
    },
    {
      "cell_type": "code",
      "execution_count": null,
      "id": "66ee2c5e-bcd3-47c4-a7f7-2bf2148f6065",
      "metadata": {
        "id": "66ee2c5e-bcd3-47c4-a7f7-2bf2148f6065"
      },
      "outputs": [],
      "source": [
        "batch_size = 16"
      ]
    },
    {
      "cell_type": "code",
      "execution_count": null,
      "id": "52f833b2-5a68-4071-aa11-ab7ad7f1011e",
      "metadata": {
        "id": "52f833b2-5a68-4071-aa11-ab7ad7f1011e"
      },
      "outputs": [],
      "source": [
        "help(image_gen.flow_from_directory)"
      ]
    },
    {
      "cell_type": "code",
      "execution_count": null,
      "id": "43e258c8-58f5-4185-8bcb-2352d898a04f",
      "metadata": {
        "id": "43e258c8-58f5-4185-8bcb-2352d898a04f"
      },
      "outputs": [],
      "source": [
        "train_image_gen = image_gen.flow_from_directory(train_path,\n",
        "                                               target_size=image_shape[:2],\n",
        "                                                color_mode='rgb',\n",
        "                                               batch_size=batch_size,\n",
        "                                               class_mode='binary')"
      ]
    },
    {
      "cell_type": "code",
      "execution_count": null,
      "id": "0303e560-0272-442b-b535-d95749b17088",
      "metadata": {
        "id": "0303e560-0272-442b-b535-d95749b17088"
      },
      "outputs": [],
      "source": [
        "train_image_gen.batch_size"
      ]
    },
    {
      "cell_type": "code",
      "execution_count": null,
      "id": "3519d656-3ff8-4728-96d8-efb61fc6b5a6",
      "metadata": {
        "id": "3519d656-3ff8-4728-96d8-efb61fc6b5a6"
      },
      "outputs": [],
      "source": [
        "len(train_image_gen.classes)"
      ]
    },
    {
      "cell_type": "code",
      "execution_count": null,
      "id": "f6f8a0f5-4ca9-493a-8d25-c531523d7412",
      "metadata": {
        "id": "f6f8a0f5-4ca9-493a-8d25-c531523d7412"
      },
      "outputs": [],
      "source": [
        "train_image_gen.total_batches_seen"
      ]
    },
    {
      "cell_type": "code",
      "execution_count": null,
      "id": "f72afe88-5ab6-440d-bf94-a2df7b7c8a1f",
      "metadata": {
        "id": "f72afe88-5ab6-440d-bf94-a2df7b7c8a1f"
      },
      "outputs": [],
      "source": [
        "test_image_gen = image_gen.flow_from_directory(test_path,\n",
        "                                               target_size=image_shape[:2],\n",
        "                                               color_mode='rgb',\n",
        "                                               batch_size=batch_size,\n",
        "                                               class_mode='binary',shuffle=False)"
      ]
    },
    {
      "cell_type": "code",
      "execution_count": null,
      "id": "c4ed0833-94d2-416a-9de8-b02e131fc95d",
      "metadata": {
        "id": "c4ed0833-94d2-416a-9de8-b02e131fc95d"
      },
      "outputs": [],
      "source": [
        "train_image_gen.class_indices"
      ]
    },
    {
      "cell_type": "code",
      "execution_count": null,
      "id": "217ef4c4-0cd7-4d7c-954b-cee1717a4f8d",
      "metadata": {
        "id": "217ef4c4-0cd7-4d7c-954b-cee1717a4f8d"
      },
      "outputs": [],
      "source": [
        "results = model.fit(train_image_gen,epochs=20,\n",
        "                              validation_data=test_image_gen\n",
        "                             )"
      ]
    },
    {
      "cell_type": "code",
      "execution_count": null,
      "id": "9b823735-06b3-4da7-9e22-946b3cd77f34",
      "metadata": {
        "id": "9b823735-06b3-4da7-9e22-946b3cd77f34"
      },
      "outputs": [],
      "source": [
        "model.save('cell_model.h5')"
      ]
    },
    {
      "cell_type": "code",
      "execution_count": null,
      "id": "dbf79be3-2d95-41b9-8c84-79dcb85d30be",
      "metadata": {
        "id": "dbf79be3-2d95-41b9-8c84-79dcb85d30be"
      },
      "outputs": [],
      "source": [
        "losses = pd.DataFrame(model.history.history)"
      ]
    },
    {
      "cell_type": "code",
      "execution_count": null,
      "id": "aff69bd3-8577-4aed-be44-ad71efe2d7e9",
      "metadata": {
        "id": "aff69bd3-8577-4aed-be44-ad71efe2d7e9"
      },
      "outputs": [],
      "source": [
        "losses[['loss','val_loss']].plot()"
      ]
    },
    {
      "cell_type": "code",
      "execution_count": null,
      "id": "d13eca2e-acc4-4834-a348-895320f2154a",
      "metadata": {
        "id": "d13eca2e-acc4-4834-a348-895320f2154a"
      },
      "outputs": [],
      "source": [
        "model.metrics_names"
      ]
    },
    {
      "cell_type": "code",
      "execution_count": null,
      "id": "9a63116b-6ec5-4605-9c07-63386a4ee963",
      "metadata": {
        "id": "9a63116b-6ec5-4605-9c07-63386a4ee963"
      },
      "outputs": [],
      "source": [
        "model.evaluate(test_image_gen)"
      ]
    },
    {
      "cell_type": "code",
      "execution_count": null,
      "id": "a5a2cd56-9317-42ce-8ac4-3966bd46bc7a",
      "metadata": {
        "id": "a5a2cd56-9317-42ce-8ac4-3966bd46bc7a"
      },
      "outputs": [],
      "source": [
        "pred_probabilities = model.predict(test_image_gen)"
      ]
    },
    {
      "cell_type": "code",
      "execution_count": null,
      "id": "1079b0df-2e96-4cfb-b39e-2f0069526c2b",
      "metadata": {
        "id": "1079b0df-2e96-4cfb-b39e-2f0069526c2b"
      },
      "outputs": [],
      "source": [
        "test_image_gen.classes"
      ]
    },
    {
      "cell_type": "code",
      "execution_count": null,
      "id": "a2669710-0bca-46ed-b068-2a43ad783d28",
      "metadata": {
        "id": "a2669710-0bca-46ed-b068-2a43ad783d28"
      },
      "outputs": [],
      "source": [
        "predictions = pred_probabilities > 0.5"
      ]
    },
    {
      "cell_type": "code",
      "execution_count": null,
      "id": "8ee42ece-4bf9-4970-b3f2-82674e5fede6",
      "metadata": {
        "id": "8ee42ece-4bf9-4970-b3f2-82674e5fede6"
      },
      "outputs": [],
      "source": [
        "print(classification_report(test_image_gen.classes,predictions))"
      ]
    },
    {
      "cell_type": "code",
      "execution_count": null,
      "id": "9e1a2c5b-e5ef-4239-a929-329f7218efa7",
      "metadata": {
        "id": "9e1a2c5b-e5ef-4239-a929-329f7218efa7"
      },
      "outputs": [],
      "source": [
        "confusion_matrix(test_image_gen.classes,predictions)"
      ]
    },
    {
      "cell_type": "code",
      "source": [
        "import random as rnd"
      ],
      "metadata": {
        "id": "udYkFPYG4GM3"
      },
      "id": "udYkFPYG4GM3",
      "execution_count": null,
      "outputs": []
    },
    {
      "cell_type": "code",
      "source": [
        "list_dir=[\"Un Infected\",\"parasitized\"]\n",
        "dir_=(rnd.choice(list_dir))\n",
        "p_img=imread(train_path+'/'+dir_+'/'+os.listdir(train_path+'/'+dir_)[rnd.randint(0,100)])\n",
        "img  = tf.convert_to_tensor(np.asarray(p_img))\n",
        "img = tf.image.resize(img,(130,130))\n",
        "img=img.numpy()\n",
        "pred=bool(model.predict(img.reshape(1,130,130,3))<0.5 )\n",
        "plt.title(\"Model prediction: \"+(\"Parasitized\" if pred  else \"Un Infected\")\n",
        "\t\t\t+\"\\nActual Value: \"+str(dir_))\n",
        "plt.axis(\"off\")\n",
        "plt.imshow(img)\n",
        "plt.show()"
      ],
      "metadata": {
        "id": "no7_rHQS4El3"
      },
      "id": "no7_rHQS4El3",
      "execution_count": null,
      "outputs": []
    }
  ],
  "metadata": {
    "colab": {
      "provenance": [],
      "toc_visible": true
    },
    "kernelspec": {
      "display_name": "Python 3.8.5 32-bit",
      "language": "python",
      "name": "python3"
    },
    "language_info": {
      "codemirror_mode": {
        "name": "ipython",
        "version": 3
      },
      "file_extension": ".py",
      "mimetype": "text/x-python",
      "name": "python",
      "nbconvert_exporter": "python",
      "pygments_lexer": "ipython3",
      "version": "3.8.5"
    },
    "toc-autonumbering": true,
    "toc-showcode": false,
    "vscode": {
      "interpreter": {
        "hash": "b3ff869944fb585e15696857a739f2c0d2088f0288fa53f3c1265d35e5d8c92e"
      }
    }
  },
  "nbformat": 4,
  "nbformat_minor": 5
}